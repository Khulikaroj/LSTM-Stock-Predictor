{
 "cells": [
  {
   "cell_type": "markdown",
   "metadata": {},
   "source": [
    "# LSTM Stock Predictor Using Closing Prices\n",
    "\n",
    "In this notebook, you will build and train a custom LSTM RNN that uses a 10 day window of Bitcoin closing prices to predict the 11th day closing price. \n",
    "\n",
    "You will need to:\n",
    "\n",
    "1. Prepare the data for training and testing\n",
    "2. Build and train a custom LSTM RNN\n",
    "3. Evaluate the performance of the model"
   ]
  },
  {
   "cell_type": "markdown",
   "metadata": {},
   "source": [
    "## Data Preparation\n",
    "\n",
    "In this section, you will need to prepare the training and testing data for the model. The model will use a rolling 10 day window to predict the 11th day closing price.\n",
    "\n",
    "You will need to:\n",
    "1. Use the `window_data` function to generate the X and y values for the model.\n",
    "2. Split the data into 70% training and 30% testing\n",
    "3. Apply the MinMaxScaler to the X and y values\n",
    "4. Reshape the X_train and X_test data for the model. Note: The required input format for the LSTM is:\n",
    "\n",
    "```python\n",
    "reshape((X_train.shape[0], X_train.shape[1], 1))\n",
    "```"
   ]
  },
  {
   "cell_type": "code",
   "execution_count": 561,
   "metadata": {},
   "outputs": [],
   "source": [
    "import numpy as np\n",
    "import pandas as pd\n",
    "import hvplot.pandas"
   ]
  },
  {
   "cell_type": "code",
   "execution_count": 562,
   "metadata": {},
   "outputs": [],
   "source": [
    "# Set the random seed for reproducibility\n",
    "# Note: This is for the homework solution, but it is good practice to comment this out and run multiple experiments to evaluate your model\n",
    "from numpy.random import seed\n",
    "seed(1)\n",
    "from tensorflow import random\n",
    "random.set_seed(2)"
   ]
  },
  {
   "cell_type": "code",
   "execution_count": 563,
   "metadata": {},
   "outputs": [
    {
     "data": {
      "text/html": [
       "<div>\n",
       "<style scoped>\n",
       "    .dataframe tbody tr th:only-of-type {\n",
       "        vertical-align: middle;\n",
       "    }\n",
       "\n",
       "    .dataframe tbody tr th {\n",
       "        vertical-align: top;\n",
       "    }\n",
       "\n",
       "    .dataframe thead th {\n",
       "        text-align: right;\n",
       "    }\n",
       "</style>\n",
       "<table border=\"1\" class=\"dataframe\">\n",
       "  <thead>\n",
       "    <tr style=\"text-align: right;\">\n",
       "      <th></th>\n",
       "      <th>fng_value</th>\n",
       "    </tr>\n",
       "    <tr>\n",
       "      <th>date</th>\n",
       "      <th></th>\n",
       "    </tr>\n",
       "  </thead>\n",
       "  <tbody>\n",
       "    <tr>\n",
       "      <th>2019-07-29</th>\n",
       "      <td>19</td>\n",
       "    </tr>\n",
       "    <tr>\n",
       "      <th>2019-07-28</th>\n",
       "      <td>16</td>\n",
       "    </tr>\n",
       "    <tr>\n",
       "      <th>2019-07-27</th>\n",
       "      <td>47</td>\n",
       "    </tr>\n",
       "    <tr>\n",
       "      <th>2019-07-26</th>\n",
       "      <td>24</td>\n",
       "    </tr>\n",
       "    <tr>\n",
       "      <th>2019-07-25</th>\n",
       "      <td>42</td>\n",
       "    </tr>\n",
       "  </tbody>\n",
       "</table>\n",
       "</div>"
      ],
      "text/plain": [
       "             fng_value\n",
       "date                  \n",
       "2019-07-29          19\n",
       "2019-07-28          16\n",
       "2019-07-27          47\n",
       "2019-07-26          24\n",
       "2019-07-25          42"
      ]
     },
     "execution_count": 563,
     "metadata": {},
     "output_type": "execute_result"
    }
   ],
   "source": [
    "# Load the fear and greed sentiment data for Bitcoin\n",
    "df = pd.read_csv('btc_sentiment.csv', index_col=\"date\", infer_datetime_format=True, parse_dates=True)\n",
    "df = df.drop(columns=\"fng_classification\")\n",
    "df.head()"
   ]
  },
  {
   "cell_type": "code",
   "execution_count": 564,
   "metadata": {},
   "outputs": [
    {
     "data": {
      "text/plain": [
       "Date\n",
       "2019-07-25    9882.429688\n",
       "2019-07-26    9847.450195\n",
       "2019-07-27    9478.320313\n",
       "2019-07-28    9531.769531\n",
       "2019-07-29    9529.889648\n",
       "Name: Close, dtype: float64"
      ]
     },
     "execution_count": 564,
     "metadata": {},
     "output_type": "execute_result"
    }
   ],
   "source": [
    "# Load the historical closing prices for Bitcoin\n",
    "df2 = pd.read_csv('btc_historic.csv', index_col=\"Date\", infer_datetime_format=True, parse_dates=True)['Close']\n",
    "df2 = df2.sort_index()\n",
    "df2.tail()"
   ]
  },
  {
   "cell_type": "code",
   "execution_count": 565,
   "metadata": {},
   "outputs": [
    {
     "data": {
      "text/html": [
       "<div>\n",
       "<style scoped>\n",
       "    .dataframe tbody tr th:only-of-type {\n",
       "        vertical-align: middle;\n",
       "    }\n",
       "\n",
       "    .dataframe tbody tr th {\n",
       "        vertical-align: top;\n",
       "    }\n",
       "\n",
       "    .dataframe thead th {\n",
       "        text-align: right;\n",
       "    }\n",
       "</style>\n",
       "<table border=\"1\" class=\"dataframe\">\n",
       "  <thead>\n",
       "    <tr style=\"text-align: right;\">\n",
       "      <th></th>\n",
       "      <th>fng_value</th>\n",
       "      <th>Close</th>\n",
       "    </tr>\n",
       "  </thead>\n",
       "  <tbody>\n",
       "    <tr>\n",
       "      <th>2019-07-25</th>\n",
       "      <td>42</td>\n",
       "      <td>9882.429688</td>\n",
       "    </tr>\n",
       "    <tr>\n",
       "      <th>2019-07-26</th>\n",
       "      <td>24</td>\n",
       "      <td>9847.450195</td>\n",
       "    </tr>\n",
       "    <tr>\n",
       "      <th>2019-07-27</th>\n",
       "      <td>47</td>\n",
       "      <td>9478.320313</td>\n",
       "    </tr>\n",
       "    <tr>\n",
       "      <th>2019-07-28</th>\n",
       "      <td>16</td>\n",
       "      <td>9531.769531</td>\n",
       "    </tr>\n",
       "    <tr>\n",
       "      <th>2019-07-29</th>\n",
       "      <td>19</td>\n",
       "      <td>9529.889648</td>\n",
       "    </tr>\n",
       "  </tbody>\n",
       "</table>\n",
       "</div>"
      ],
      "text/plain": [
       "             fng_value        Close\n",
       "2019-07-25          42  9882.429688\n",
       "2019-07-26          24  9847.450195\n",
       "2019-07-27          47  9478.320313\n",
       "2019-07-28          16  9531.769531\n",
       "2019-07-29          19  9529.889648"
      ]
     },
     "execution_count": 565,
     "metadata": {},
     "output_type": "execute_result"
    }
   ],
   "source": [
    "# Join the data into a single DataFrame\n",
    "df = df.join(df2, how=\"inner\")\n",
    "df.tail()"
   ]
  },
  {
   "cell_type": "code",
   "execution_count": 566,
   "metadata": {},
   "outputs": [
    {
     "data": {
      "text/html": [
       "<div>\n",
       "<style scoped>\n",
       "    .dataframe tbody tr th:only-of-type {\n",
       "        vertical-align: middle;\n",
       "    }\n",
       "\n",
       "    .dataframe tbody tr th {\n",
       "        vertical-align: top;\n",
       "    }\n",
       "\n",
       "    .dataframe thead th {\n",
       "        text-align: right;\n",
       "    }\n",
       "</style>\n",
       "<table border=\"1\" class=\"dataframe\">\n",
       "  <thead>\n",
       "    <tr style=\"text-align: right;\">\n",
       "      <th></th>\n",
       "      <th>fng_value</th>\n",
       "      <th>Close</th>\n",
       "    </tr>\n",
       "  </thead>\n",
       "  <tbody>\n",
       "    <tr>\n",
       "      <th>2018-02-01</th>\n",
       "      <td>30</td>\n",
       "      <td>9114.719727</td>\n",
       "    </tr>\n",
       "    <tr>\n",
       "      <th>2018-02-02</th>\n",
       "      <td>15</td>\n",
       "      <td>8870.820313</td>\n",
       "    </tr>\n",
       "    <tr>\n",
       "      <th>2018-02-03</th>\n",
       "      <td>40</td>\n",
       "      <td>9251.269531</td>\n",
       "    </tr>\n",
       "    <tr>\n",
       "      <th>2018-02-04</th>\n",
       "      <td>24</td>\n",
       "      <td>8218.049805</td>\n",
       "    </tr>\n",
       "    <tr>\n",
       "      <th>2018-02-05</th>\n",
       "      <td>11</td>\n",
       "      <td>6937.080078</td>\n",
       "    </tr>\n",
       "  </tbody>\n",
       "</table>\n",
       "</div>"
      ],
      "text/plain": [
       "             fng_value        Close\n",
       "2018-02-01          30  9114.719727\n",
       "2018-02-02          15  8870.820313\n",
       "2018-02-03          40  9251.269531\n",
       "2018-02-04          24  8218.049805\n",
       "2018-02-05          11  6937.080078"
      ]
     },
     "execution_count": 566,
     "metadata": {},
     "output_type": "execute_result"
    }
   ],
   "source": [
    "df.head()"
   ]
  },
  {
   "cell_type": "code",
   "execution_count": 567,
   "metadata": {},
   "outputs": [],
   "source": [
    "# This function accepts the column number for the features (X) and the target (y)\n",
    "# It chunks the data up with a rolling window of Xt-n to predict Xt\n",
    "# It returns a numpy array of X any y\n",
    "def window_data(df, window, feature_col_number, target_col_number):\n",
    "    X = []\n",
    "    y = []\n",
    "    for i in range(len(df) - window - 1):\n",
    "        features = df.iloc[i:(i + window), feature_col_number]\n",
    "        target = df.iloc[(i + window), target_col_number]\n",
    "        X.append(features)\n",
    "        y.append(target)\n",
    "    return np.array(X), np.array(y).reshape(-1, 1)"
   ]
  },
  {
   "cell_type": "code",
   "execution_count": 568,
   "metadata": {},
   "outputs": [],
   "source": [
    "# Predict Closing Prices using a 10 day window of previous closing prices\n",
    "# Then, experiment with window sizes anywhere from 1 to 10 and see how the model performance changes\n",
    "window_size = 2\n",
    "\n",
    "# Column index 0 is the 'fng_value' column\n",
    "# Column index 1 is the `Close` column\n",
    "feature_column = 1\n",
    "target_column = 1\n",
    "X, y = window_data(df, window_size, feature_column, target_column)"
   ]
  },
  {
   "cell_type": "code",
   "execution_count": 569,
   "metadata": {},
   "outputs": [],
   "source": [
    "# Use 70% of the data for training and the remaineder for testing\n",
    "split = int(0.7 * len(X))\n",
    "X_train = X[: split]\n",
    "X_test = X[split:]\n",
    "y_train = y[: split]\n",
    "y_test = y[split:]\n"
   ]
  },
  {
   "cell_type": "code",
   "execution_count": 570,
   "metadata": {},
   "outputs": [],
   "source": [
    "from sklearn.preprocessing import MinMaxScaler\n",
    "# Use the MinMaxScaler to scale data between 0 and 1.\n",
    "scaler = MinMaxScaler()\n",
    "X_train = scaler.fit_transform(X_train)\n",
    "y_train = scaler.fit_transform(y_train)\n",
    "X_test = scaler.fit_transform(X_test)\n",
    "y_test = scaler.fit_transform(y_test)"
   ]
  },
  {
   "cell_type": "code",
   "execution_count": 571,
   "metadata": {},
   "outputs": [],
   "source": [
    "# Reshape the features for the model\n",
    "X_train = X_train.reshape((X_train.shape[0], X_train.shape[1], 1))\n",
    "X_test = X_test.reshape((X_test.shape[0], X_train.shape[1], 1))"
   ]
  },
  {
   "cell_type": "markdown",
   "metadata": {},
   "source": [
    "---"
   ]
  },
  {
   "cell_type": "markdown",
   "metadata": {},
   "source": [
    "## Build and Train the LSTM RNN\n",
    "\n",
    "In this section, you will design a custom LSTM RNN and fit (train) it using the training data.\n",
    "\n",
    "You will need to:\n",
    "1. Define the model architecture\n",
    "2. Compile the model\n",
    "3. Fit the model to the training data\n",
    "\n",
    "### Hints:\n",
    "You will want to use the same model architecture and random seed for both notebooks. This is necessary to accurately compare the performance of the FNG model vs the closing price model. "
   ]
  },
  {
   "cell_type": "code",
   "execution_count": 572,
   "metadata": {},
   "outputs": [],
   "source": [
    "from tensorflow.keras.models import Sequential\n",
    "from tensorflow.keras.layers import LSTM, Dense, Dropout"
   ]
  },
  {
   "cell_type": "code",
   "execution_count": 573,
   "metadata": {},
   "outputs": [],
   "source": [
    "# Build the LSTM model. \n",
    "# The return sequences need to be set to True if you are adding additional LSTM layers, but \n",
    "# You don't have to do this for the final layer. \n",
    "# Note: The dropouts help prevent overfitting\n",
    "# Note: The input shape is the number of time steps and the number of indicators\n",
    "# Note: Batching inputs has a different input shape of Samples/TimeSteps/Features\n",
    "\n",
    "model = Sequential()\n",
    "number_units = window_size\n",
    "dropout_fraction = 0.2\n",
    "\n",
    "model.add(LSTM(units=number_units,return_sequences=True, input_shape=(X_train.shape[1],1)))\n",
    "model.add(Dropout(dropout_fraction))\n",
    "\n",
    "model.add(LSTM(units=number_units,return_sequences=True))\n",
    "model.add(Dropout(dropout_fraction))\n",
    "\n",
    "model.add(LSTM(units=number_units))\n",
    "model.add(Dropout(dropout_fraction))\n",
    "\n",
    "model.add(Dense(1))"
   ]
  },
  {
   "cell_type": "code",
   "execution_count": 574,
   "metadata": {},
   "outputs": [],
   "source": [
    "# Compile the model\n",
    "model.compile(optimizer=\"adam\", loss=\"mean_squared_error\")"
   ]
  },
  {
   "cell_type": "code",
   "execution_count": 575,
   "metadata": {},
   "outputs": [
    {
     "name": "stdout",
     "output_type": "stream",
     "text": [
      "Model: \"sequential_25\"\n",
      "_________________________________________________________________\n",
      "Layer (type)                 Output Shape              Param #   \n",
      "=================================================================\n",
      "lstm_59 (LSTM)               (None, 2, 2)              32        \n",
      "_________________________________________________________________\n",
      "dropout_57 (Dropout)         (None, 2, 2)              0         \n",
      "_________________________________________________________________\n",
      "lstm_60 (LSTM)               (None, 2, 2)              40        \n",
      "_________________________________________________________________\n",
      "dropout_58 (Dropout)         (None, 2, 2)              0         \n",
      "_________________________________________________________________\n",
      "lstm_61 (LSTM)               (None, 2)                 40        \n",
      "_________________________________________________________________\n",
      "dropout_59 (Dropout)         (None, 2)                 0         \n",
      "_________________________________________________________________\n",
      "dense_24 (Dense)             (None, 1)                 3         \n",
      "=================================================================\n",
      "Total params: 115\n",
      "Trainable params: 115\n",
      "Non-trainable params: 0\n",
      "_________________________________________________________________\n"
     ]
    }
   ],
   "source": [
    "# Summarize the model\n",
    "model.summary()"
   ]
  },
  {
   "cell_type": "code",
   "execution_count": 576,
   "metadata": {},
   "outputs": [
    {
     "name": "stdout",
     "output_type": "stream",
     "text": [
      "Epoch 1/20\n",
      "378/378 [==============================] - 1s 2ms/step - loss: 0.1272\n",
      "Epoch 2/20\n",
      "378/378 [==============================] - 1s 1ms/step - loss: 0.0690\n",
      "Epoch 3/20\n",
      "378/378 [==============================] - 1s 1ms/step - loss: 0.0649\n",
      "Epoch 4/20\n",
      "378/378 [==============================] - 1s 2ms/step - loss: 0.0593\n",
      "Epoch 5/20\n",
      "378/378 [==============================] - 1s 2ms/step - loss: 0.0446\n",
      "Epoch 6/20\n",
      "378/378 [==============================] - 1s 1ms/step - loss: 0.0352\n",
      "Epoch 7/20\n",
      "378/378 [==============================] - 1s 1ms/step - loss: 0.0203\n",
      "Epoch 8/20\n",
      "378/378 [==============================] - 1s 2ms/step - loss: 0.0137\n",
      "Epoch 9/20\n",
      "378/378 [==============================] - 1s 2ms/step - loss: 0.0177\n",
      "Epoch 10/20\n",
      "378/378 [==============================] - 1s 1ms/step - loss: 0.0164\n",
      "Epoch 11/20\n",
      "378/378 [==============================] - 1s 2ms/step - loss: 0.0144\n",
      "Epoch 12/20\n",
      "378/378 [==============================] - 1s 2ms/step - loss: 0.0164\n",
      "Epoch 13/20\n",
      "378/378 [==============================] - 1s 2ms/step - loss: 0.0138\n",
      "Epoch 14/20\n",
      "378/378 [==============================] - 1s 1ms/step - loss: 0.0135\n",
      "Epoch 15/20\n",
      "378/378 [==============================] - 1s 1ms/step - loss: 0.0137\n",
      "Epoch 16/20\n",
      "378/378 [==============================] - 1s 1ms/step - loss: 0.0170\n",
      "Epoch 17/20\n",
      "378/378 [==============================] - 1s 1ms/step - loss: 0.0133\n",
      "Epoch 18/20\n",
      "378/378 [==============================] - 1s 1ms/step - loss: 0.0159\n",
      "Epoch 19/20\n",
      "378/378 [==============================] - 1s 1ms/step - loss: 0.0145\n",
      "Epoch 20/20\n",
      "378/378 [==============================] - 1s 1ms/step - loss: 0.0125\n",
      "6/6 [==============================] - 0s 997us/step - loss: 0.0163\n"
     ]
    },
    {
     "data": {
      "text/plain": [
       "0.016348283737897873"
      ]
     },
     "execution_count": 576,
     "metadata": {},
     "output_type": "execute_result"
    }
   ],
   "source": [
    "# Train the model\n",
    "# Use at least 10 epochs\n",
    "# Do not shuffle the data\n",
    "# Experiement with the batch size, but a smaller batch size is recommended\n",
    "\n",
    "#Set batch_size = 1\n",
    "model.fit(X_train, y_train, epochs=20, shuffle=False, batch_size=1,verbose=1)\n",
    "model.evaluate(X_test, y_test)"
   ]
  },
  {
   "cell_type": "code",
   "execution_count": 577,
   "metadata": {},
   "outputs": [],
   "source": [
    "#Set batch_size = 5\n",
    "#model.fit(X_train, y_train, epochs=20, shuffle=False, batch_size=5,verbose=1)\n",
    "#model.evaluate(X_test, y_test)"
   ]
  },
  {
   "cell_type": "code",
   "execution_count": 578,
   "metadata": {},
   "outputs": [],
   "source": [
    "#try rmsprop optimizer\n",
    "#model.compile(optimizer=\"rmsprop\", loss=\"mean_squared_error\")\n",
    "#model.fit(X_train, y_train, epochs=10, shuffle=False, batch_size=1,verbose=1)\n",
    "#model.evaluate(X_test, y_test)"
   ]
  },
  {
   "cell_type": "code",
   "execution_count": 579,
   "metadata": {},
   "outputs": [],
   "source": [
    "#try sgd optimizer\n",
    "#model.compile(optimizer=\"sgd\", loss=\"mean_squared_error\")\n",
    "#model.fit(X_train, y_train, epochs=10, shuffle=False, batch_size=1,verbose=1)\n",
    "#model.evaluate(X_test, y_test)"
   ]
  },
  {
   "cell_type": "markdown",
   "metadata": {},
   "source": [
    "---"
   ]
  },
  {
   "cell_type": "markdown",
   "metadata": {},
   "source": [
    "## Model Performance\n",
    "\n",
    "In this section, you will evaluate the model using the test data. \n",
    "\n",
    "You will need to:\n",
    "1. Evaluate the model using the `X_test` and `y_test` data.\n",
    "2. Use the X_test data to make predictions\n",
    "3. Create a DataFrame of Real (y_test) vs predicted values. \n",
    "4. Plot the Real vs predicted values as a line chart\n",
    "\n",
    "### Hints\n",
    "Remember to apply the `inverse_transform` function to the predicted and y_test values to recover the actual closing prices."
   ]
  },
  {
   "cell_type": "code",
   "execution_count": 580,
   "metadata": {},
   "outputs": [
    {
     "name": "stdout",
     "output_type": "stream",
     "text": [
      "6/6 [==============================] - 0s 831us/step - loss: 0.0163\n"
     ]
    },
    {
     "data": {
      "text/plain": [
       "0.016348283737897873"
      ]
     },
     "execution_count": 580,
     "metadata": {},
     "output_type": "execute_result"
    }
   ],
   "source": [
    "# Evaluate the model\n",
    "model.evaluate(X_test, y_test)"
   ]
  },
  {
   "cell_type": "code",
   "execution_count": 581,
   "metadata": {},
   "outputs": [],
   "source": [
    "# Make some predictions\n",
    "predicted = model.predict(X_test)"
   ]
  },
  {
   "cell_type": "code",
   "execution_count": 582,
   "metadata": {},
   "outputs": [],
   "source": [
    "# Recover the original prices instead of the scaled version\n",
    "predicted_prices = scaler.inverse_transform(predicted)\n",
    "real_prices = scaler.inverse_transform(y_test.reshape(-1, 1))"
   ]
  },
  {
   "cell_type": "code",
   "execution_count": 583,
   "metadata": {},
   "outputs": [
    {
     "data": {
      "text/html": [
       "<div>\n",
       "<style scoped>\n",
       "    .dataframe tbody tr th:only-of-type {\n",
       "        vertical-align: middle;\n",
       "    }\n",
       "\n",
       "    .dataframe tbody tr th {\n",
       "        vertical-align: top;\n",
       "    }\n",
       "\n",
       "    .dataframe thead th {\n",
       "        text-align: right;\n",
       "    }\n",
       "</style>\n",
       "<table border=\"1\" class=\"dataframe\">\n",
       "  <thead>\n",
       "    <tr style=\"text-align: right;\">\n",
       "      <th></th>\n",
       "      <th>Real</th>\n",
       "      <th>Predicted</th>\n",
       "    </tr>\n",
       "  </thead>\n",
       "  <tbody>\n",
       "    <tr>\n",
       "      <th>2019-02-18</th>\n",
       "      <td>3670.919922</td>\n",
       "      <td>4154.288574</td>\n",
       "    </tr>\n",
       "    <tr>\n",
       "      <th>2019-02-19</th>\n",
       "      <td>3912.570068</td>\n",
       "      <td>4164.377441</td>\n",
       "    </tr>\n",
       "    <tr>\n",
       "      <th>2019-02-20</th>\n",
       "      <td>3924.239990</td>\n",
       "      <td>4172.958496</td>\n",
       "    </tr>\n",
       "    <tr>\n",
       "      <th>2019-02-21</th>\n",
       "      <td>3974.050049</td>\n",
       "      <td>4222.062500</td>\n",
       "    </tr>\n",
       "    <tr>\n",
       "      <th>2019-02-22</th>\n",
       "      <td>3937.040039</td>\n",
       "      <td>4226.559082</td>\n",
       "    </tr>\n",
       "  </tbody>\n",
       "</table>\n",
       "</div>"
      ],
      "text/plain": [
       "                   Real    Predicted\n",
       "2019-02-18  3670.919922  4154.288574\n",
       "2019-02-19  3912.570068  4164.377441\n",
       "2019-02-20  3924.239990  4172.958496\n",
       "2019-02-21  3974.050049  4222.062500\n",
       "2019-02-22  3937.040039  4226.559082"
      ]
     },
     "execution_count": 583,
     "metadata": {},
     "output_type": "execute_result"
    }
   ],
   "source": [
    "# Create a DataFrame of Real and Predicted values\n",
    "stocks = pd.DataFrame({\n",
    "    \"Real\": real_prices.ravel(),\n",
    "    \"Predicted\": predicted_prices.ravel()\n",
    "}, index = df.index[-len(real_prices): ]) \n",
    "stocks.head()"
   ]
  },
  {
   "cell_type": "code",
   "execution_count": 584,
   "metadata": {},
   "outputs": [
    {
     "data": {
      "application/vnd.holoviews_exec.v0+json": "",
      "text/html": [
       "<div id='10454'>\n",
       "\n",
       "\n",
       "\n",
       "\n",
       "\n",
       "  <div class=\"bk-root\" id=\"f91a30ab-dc5b-4a59-994b-fe962afb0637\" data-root-id=\"10454\"></div>\n",
       "</div>\n",
       "<script type=\"application/javascript\">(function(root) {\n",
       "  function embed_document(root) {\n",
       "  var docs_json = {\"cf5e2b87-6451-47f5-b9f7-5668c8f2ef3f\":{\"roots\":{\"references\":[{\"attributes\":{},\"id\":\"10479\",\"type\":\"WheelZoomTool\"},{\"attributes\":{\"days\":[1,2,3,4,5,6,7,8,9,10,11,12,13,14,15,16,17,18,19,20,21,22,23,24,25,26,27,28,29,30,31]},\"id\":\"10510\",\"type\":\"DaysTicker\"},{\"attributes\":{\"bottom_units\":\"screen\",\"fill_alpha\":0.5,\"fill_color\":\"lightgrey\",\"left_units\":\"screen\",\"level\":\"overlay\",\"line_alpha\":1.0,\"line_color\":\"black\",\"line_dash\":[4,4],\"line_width\":2,\"right_units\":\"screen\",\"top_units\":\"screen\"},\"id\":\"10482\",\"type\":\"BoxAnnotation\"},{\"attributes\":{\"axis\":{\"id\":\"10473\"},\"dimension\":1,\"grid_line_color\":null,\"ticker\":null},\"id\":\"10476\",\"type\":\"Grid\"},{\"attributes\":{},\"id\":\"10519\",\"type\":\"UnionRenderers\"},{\"attributes\":{},\"id\":\"10491\",\"type\":\"DatetimeTickFormatter\"},{\"attributes\":{},\"id\":\"10477\",\"type\":\"SaveTool\"},{\"attributes\":{},\"id\":\"10493\",\"type\":\"BasicTickFormatter\"},{\"attributes\":{\"days\":[1,4,7,10,13,16,19,22,25,28]},\"id\":\"10511\",\"type\":\"DaysTicker\"},{\"attributes\":{\"days\":[1,8,15,22]},\"id\":\"10512\",\"type\":\"DaysTicker\"},{\"attributes\":{\"data\":{\"Variable\":[\"Real\",\"Real\",\"Real\",\"Real\",\"Real\",\"Real\",\"Real\",\"Real\",\"Real\",\"Real\",\"Real\",\"Real\",\"Real\",\"Real\",\"Real\",\"Real\",\"Real\",\"Real\",\"Real\",\"Real\",\"Real\",\"Real\",\"Real\",\"Real\",\"Real\",\"Real\",\"Real\",\"Real\",\"Real\",\"Real\",\"Real\",\"Real\",\"Real\",\"Real\",\"Real\",\"Real\",\"Real\",\"Real\",\"Real\",\"Real\",\"Real\",\"Real\",\"Real\",\"Real\",\"Real\",\"Real\",\"Real\",\"Real\",\"Real\",\"Real\",\"Real\",\"Real\",\"Real\",\"Real\",\"Real\",\"Real\",\"Real\",\"Real\",\"Real\",\"Real\",\"Real\",\"Real\",\"Real\",\"Real\",\"Real\",\"Real\",\"Real\",\"Real\",\"Real\",\"Real\",\"Real\",\"Real\",\"Real\",\"Real\",\"Real\",\"Real\",\"Real\",\"Real\",\"Real\",\"Real\",\"Real\",\"Real\",\"Real\",\"Real\",\"Real\",\"Real\",\"Real\",\"Real\",\"Real\",\"Real\",\"Real\",\"Real\",\"Real\",\"Real\",\"Real\",\"Real\",\"Real\",\"Real\",\"Real\",\"Real\",\"Real\",\"Real\",\"Real\",\"Real\",\"Real\",\"Real\",\"Real\",\"Real\",\"Real\",\"Real\",\"Real\",\"Real\",\"Real\",\"Real\",\"Real\",\"Real\",\"Real\",\"Real\",\"Real\",\"Real\",\"Real\",\"Real\",\"Real\",\"Real\",\"Real\",\"Real\",\"Real\",\"Real\",\"Real\",\"Real\",\"Real\",\"Real\",\"Real\",\"Real\",\"Real\",\"Real\",\"Real\",\"Real\",\"Real\",\"Real\",\"Real\",\"Real\",\"Real\",\"Real\",\"Real\",\"Real\",\"Real\",\"Real\",\"Real\",\"Real\",\"Real\",\"Real\",\"Real\",\"Real\",\"Real\",\"Real\",\"Real\",\"Real\",\"Real\",\"Real\",\"Real\",\"Real\"],\"index\":{\"__ndarray__\":\"AADAb96PdkIAAIDVMJB2QgAAQDuDkHZCAAAAodWQdkIAAMAGKJF2QgAAgGx6kXZCAABA0syRdkIAAAA4H5J2QgAAwJ1xknZCAACAA8SSdkIAAEBpFpN2QgAAAM9ok3ZCAADANLuTdkIAAICaDZR2QgAAQABglHZCAAAAZrKUdkIAAMDLBJV2QgAAgDFXlXZCAABAl6mVdkIAAAD9+5V2QgAAwGJOlnZCAACAyKCWdkIAAEAu85Z2QgAAAJRFl3ZCAADA+ZeXdkIAAIBf6pd2QgAAQMU8mHZCAAAAK4+YdkIAAMCQ4Zh2QgAAgPYzmXZCAABAXIaZdkIAAADC2Jl2QgAAwCcrmnZCAACAjX2adkIAAEDzz5p2QgAAAFkim3ZCAADAvnSbdkIAAIAkx5t2QgAAQIoZnHZCAAAA8GucdkIAAMBVvpx2QgAAgLsQnXZCAABAIWOddkIAAACHtZ12QgAAwOwHnnZCAACAUlqedkIAAEC4rJ52QgAAAB7/nnZCAADAg1GfdkIAAIDpo592QgAAQE/2n3ZCAAAAtUigdkIAAMAam6B2QgAAgIDtoHZCAABA5j+hdkIAAABMkqF2QgAAwLHkoXZCAACAFzeidkIAAEB9iaJ2QgAAAOPbonZCAADASC6jdkIAAICugKN2QgAAQBTTo3ZCAAAAeiWkdkIAAMDfd6R2QgAAgEXKpHZCAABAqxyldkIAAAARb6V2QgAAwHbBpXZCAACA3BOmdkIAAEBCZqZ2QgAAAKi4pnZCAADADQundkIAAIBzXad2QgAAQNmvp3ZCAAAAPwKodkIAAMCkVKh2QgAAgAqnqHZCAABAcPmodkIAAADWS6l2QgAAwDueqXZCAACAofCpdkIAAEAHQ6p2QgAAAG2VqnZCAADA0ueqdkIAAIA4Oqt2QgAAQJ6Mq3ZCAAAABN+rdkIAAMBpMax2QgAAgM+DrHZCAABANdasdkIAAACbKK12QgAAwAB7rXZCAACAZs2tdkIAAEDMH652QgAAADJyrnZCAADAl8SudkIAAID9Fq92QgAAQGNpr3ZCAAAAybuvdkIAAMAuDrB2QgAAgJRgsHZCAABA+rKwdkIAAABgBbF2QgAAwMVXsXZCAACAK6qxdkIAAECR/LF2QgAAAPdOsnZCAADAXKGydkIAAIDC87J2QgAAQChGs3ZCAAAAjpizdkIAAMDz6rN2QgAAgFk9tHZCAABAv4+0dkIAAAAl4rR2QgAAwIo0tXZCAACA8Ia1dkIAAEBW2bV2QgAAALwrtnZCAADAIX62dkIAAICH0LZ2QgAAQO0it3ZCAAAAU3W3dkIAAMC4x7d2QgAAgB4auHZCAABAhGy4dkIAAADqvrh2QgAAwE8RuXZCAACAtWO5dkIAAEAbtrl2QgAAAIEIunZCAADA5lq6dkIAAIBMrbp2QgAAQLL/unZCAAAAGFK7dkIAAMB9pLt2QgAAgOP2u3ZCAABASUm8dkIAAACvm7x2QgAAwBTuvHZCAACAekC9dkIAAEDgkr12QgAAAEblvXZCAADAqze+dkIAAIARir52QgAAQHfcvnZCAAAA3S6/dkIAAMBCgb92QgAAgKjTv3ZCAABADibAdkIAAAB0eMB2QgAAwNnKwHZCAACAPx3BdkIAAEClb8F2QgAAAAvCwXZCAADAcBTCdkIAAIDWZsJ2QgAAQDy5wnZCAAAAogvDdkIAAMAHXsN2QgAAgG2ww3ZC\",\"dtype\":\"float64\",\"order\":\"little\",\"shape\":[162]},\"value\":{\"__ndarray__\":\"vjEEANetrED+8PPfI5GuQLwi+N96qK5AZcQFoBkMr0Ah5/1/FMKuQN0J9l8PH69AvjEEABc1sEBktfl/PXetQETdByAFC65AnEoGgMLTrUAj9gmgcO2tQGS1+X+93q1Ad0Xwv/XurUBVXvI/4QWuQKqhDcCeyK1A3Qn2X48mrUACDwwgXESuQHdF8L/1Ra5AH9jxXzhVrkCJug9ACjiuQLwi+N96165Ah6sDIK6zrkDhJw6gx0WuQP3w898jYa5AVl7yP+FMrkBVXvI/4VKuQELO+/8orq5ARN0HIAV2r0AAAAAAADyvQMqIC0CzKa9A4CcOoEdwr0AAAAAAgLGvQAIPDCDcOa9AiKsDIK5Br0DfGAKAa06vQB/Y8V84NK9AZsQFoBmprkAj9gmgcMyuQHdF8L/1m69Amjv6X+aIr0BOJQNAYQ+wQE4lA0AhFrBAKy/5n7AQsEB6VPzfUTewQIarAyDuKrNAvjEEAJdws0ALSPsfXDGzQLwi+N86t7NAAAAAAEDBs0BCzvv/KFG0QL4xBAAXrrRALT4FwExRtEBlxAWgmca0QNXQBmCPuLNA/////3/Zs0BCzvv/qNizQL4xBACXLbRARN0HIEWts0DV0AZgz1y0QJxKBoBCdLRAAAAAAMCptEDpYP2fh6+0QIarAyAuzrRAZLX5f725tEDfGAKAqxK1QGXEBaAZo7VAIef9f5ROtUDeGAKAqyq0QL4xBAAXcrRAvCL433pttEDTwfo/c5i0QG8MAcD1dbRA9bcE4KPmtECR8/4/ig21QBefAmC4fLVATiUDQGF5tkAh5/1/FNC2QPW3BOAjorZA3xgCgCt0tkB6VPzfkbu2QG8MAcC1brdAbgwBwPUbuECR8/4/Sta4QAlI+x9cF7xATiUDQKFBu0AKSPsfXH6+QE0lA0AhLL9AIef9f9T3v0AJSPsfHMK+QG8MAcD1y7xAIef9fxRivEB6VPzfkQDAQJHz/j9KPr9Ah6sDIO4Lv0D2twTg48q9QAAAAACAxL5Amjv6X2Y8v0BPJQNAIXu/QN8YAoAdC8FAbwwBwJUowUCy2vy/bAfBQOlg/Z9H7MBAAAAAACAqwEBvDAHAVbPAQFlt/l/vtcBAIef9f/QQwUBktfl/fbK/QBefAmB4/b1AkfP+P0pvvkAKSPsfXH++QE4lA0ChQr9A6GD9n8f9vkArL/mfcNu9QAAAAAAAVb9AeVT831HtvkD2twTgI+6/QL4xBADJFcBAOIYA4Pr6wEDpYP2fx0rBQL4xBACXicFATiUDQAE8wkA4hgDg2rzBQMh5/x9FIMJAstr8v2ygwkBZbf5fb/XDQMh5/x/F4MRAstr8v/4zxUCy2vy/3o3FQN8YAoAr7sZAelT836M4yUDfGAKAC8nFQOlg/Z+HIchAstr8vww2x0AXnwJghgjFQFlt/l/vr8RAp5IBoBAuxUCGqwMgzmbHQCHn/X9CysVAAAAAAKB4xUAXnwJgePjFQHpU/N8jacZAIef9fxQEyEAh5/1/govIQFlt/l+PocdAWm3+X48nxkBZbf5frwrHQIerAyD8McZAIef9fzTuw0BOJQNAITHFQBafAmC4Z8JATiUDQBPwwkCy2vy/LMfEQBefAmB4ksRAbwwBwLUDxUA4hgDgWq3EQFlt/l/vKsRATiUDQBM/w0B6VPzfERbDQL4xBAA3TcNA6WD9n7k7w0C+MQQAKYPCQCHn/X/incJA\",\"dtype\":\"float64\",\"order\":\"little\",\"shape\":[162]}},\"selected\":{\"id\":\"10495\"},\"selection_policy\":{\"id\":\"10519\"}},\"id\":\"10494\",\"type\":\"ColumnDataSource\"},{\"attributes\":{\"line_alpha\":0.2,\"line_color\":\"#ff7e0e\",\"line_width\":2,\"x\":{\"field\":\"index\"},\"y\":{\"field\":\"value\"}},\"id\":\"10529\",\"type\":\"Line\"},{\"attributes\":{},\"id\":\"10474\",\"type\":\"BasicTicker\"},{\"attributes\":{\"days\":[1,15]},\"id\":\"10513\",\"type\":\"DaysTicker\"},{\"attributes\":{},\"id\":\"10525\",\"type\":\"Selection\"},{\"attributes\":{\"axis\":{\"id\":\"10469\"},\"grid_line_color\":null,\"ticker\":null},\"id\":\"10472\",\"type\":\"Grid\"},{\"attributes\":{},\"id\":\"10481\",\"type\":\"ResetTool\"},{\"attributes\":{},\"id\":\"10495\",\"type\":\"Selection\"},{\"attributes\":{},\"id\":\"10551\",\"type\":\"UnionRenderers\"},{\"attributes\":{\"num_minor_ticks\":5,\"tickers\":[{\"id\":\"10507\"},{\"id\":\"10508\"},{\"id\":\"10509\"},{\"id\":\"10510\"},{\"id\":\"10511\"},{\"id\":\"10512\"},{\"id\":\"10513\"},{\"id\":\"10514\"},{\"id\":\"10515\"},{\"id\":\"10516\"},{\"id\":\"10517\"},{\"id\":\"10518\"}]},\"id\":\"10470\",\"type\":\"DatetimeTicker\"},{\"attributes\":{\"months\":[0,1,2,3,4,5,6,7,8,9,10,11]},\"id\":\"10514\",\"type\":\"MonthsTicker\"},{\"attributes\":{\"line_color\":\"#ff7e0e\",\"line_width\":2,\"x\":{\"field\":\"index\"},\"y\":{\"field\":\"value\"}},\"id\":\"10527\",\"type\":\"Line\"},{\"attributes\":{\"active_drag\":\"auto\",\"active_inspect\":\"auto\",\"active_multi\":null,\"active_scroll\":\"auto\",\"active_tap\":\"auto\",\"tools\":[{\"id\":\"10458\"},{\"id\":\"10477\"},{\"id\":\"10478\"},{\"id\":\"10479\"},{\"id\":\"10480\"},{\"id\":\"10481\"}]},\"id\":\"10483\",\"type\":\"Toolbar\"},{\"attributes\":{\"months\":[0,2,4,6,8,10]},\"id\":\"10515\",\"type\":\"MonthsTicker\"},{\"attributes\":{\"axis_label\":\"\",\"bounds\":\"auto\",\"formatter\":{\"id\":\"10491\"},\"major_label_orientation\":\"horizontal\",\"ticker\":{\"id\":\"10470\"}},\"id\":\"10469\",\"type\":\"DatetimeAxis\"},{\"attributes\":{\"text\":\"\",\"text_color\":{\"value\":\"black\"},\"text_font_size\":{\"value\":\"12pt\"}},\"id\":\"10461\",\"type\":\"Title\"},{\"attributes\":{\"line_alpha\":0.1,\"line_color\":\"#1f77b3\",\"line_width\":2,\"x\":{\"field\":\"index\"},\"y\":{\"field\":\"value\"}},\"id\":\"10498\",\"type\":\"Line\"},{\"attributes\":{\"margin\":[5,5,5,5],\"name\":\"HSpacer11782\",\"sizing_mode\":\"stretch_width\"},\"id\":\"10455\",\"type\":\"Spacer\"},{\"attributes\":{\"above\":[{\"id\":\"10522\"}],\"align\":null,\"below\":[{\"id\":\"10469\"}],\"center\":[{\"id\":\"10472\"},{\"id\":\"10476\"}],\"left\":[{\"id\":\"10473\"}],\"margin\":null,\"min_border_bottom\":10,\"min_border_left\":10,\"min_border_right\":10,\"min_border_top\":10,\"plot_height\":500,\"plot_width\":620,\"renderers\":[{\"id\":\"10500\"},{\"id\":\"10530\"}],\"sizing_mode\":\"fixed\",\"title\":{\"id\":\"10461\"},\"toolbar\":{\"id\":\"10483\"},\"x_range\":{\"id\":\"10456\"},\"x_scale\":{\"id\":\"10465\"},\"y_range\":{\"id\":\"10457\"},\"y_scale\":{\"id\":\"10467\"}},\"id\":\"10460\",\"subtype\":\"Figure\",\"type\":\"Plot\"},{\"attributes\":{\"data_source\":{\"id\":\"10494\"},\"glyph\":{\"id\":\"10497\"},\"hover_glyph\":null,\"muted_glyph\":{\"id\":\"10499\"},\"nonselection_glyph\":{\"id\":\"10498\"},\"selection_glyph\":null,\"view\":{\"id\":\"10501\"}},\"id\":\"10500\",\"type\":\"GlyphRenderer\"},{\"attributes\":{\"data_source\":{\"id\":\"10524\"},\"glyph\":{\"id\":\"10527\"},\"hover_glyph\":null,\"muted_glyph\":{\"id\":\"10529\"},\"nonselection_glyph\":{\"id\":\"10528\"},\"selection_glyph\":null,\"view\":{\"id\":\"10531\"}},\"id\":\"10530\",\"type\":\"GlyphRenderer\"},{\"attributes\":{\"click_policy\":\"mute\",\"items\":[{\"id\":\"10523\"},{\"id\":\"10554\"}],\"location\":[0,0],\"orientation\":\"horizontal\",\"title\":\"Variable\"},\"id\":\"10522\",\"type\":\"Legend\"},{\"attributes\":{\"data\":{\"Variable\":[\"Predicted\",\"Predicted\",\"Predicted\",\"Predicted\",\"Predicted\",\"Predicted\",\"Predicted\",\"Predicted\",\"Predicted\",\"Predicted\",\"Predicted\",\"Predicted\",\"Predicted\",\"Predicted\",\"Predicted\",\"Predicted\",\"Predicted\",\"Predicted\",\"Predicted\",\"Predicted\",\"Predicted\",\"Predicted\",\"Predicted\",\"Predicted\",\"Predicted\",\"Predicted\",\"Predicted\",\"Predicted\",\"Predicted\",\"Predicted\",\"Predicted\",\"Predicted\",\"Predicted\",\"Predicted\",\"Predicted\",\"Predicted\",\"Predicted\",\"Predicted\",\"Predicted\",\"Predicted\",\"Predicted\",\"Predicted\",\"Predicted\",\"Predicted\",\"Predicted\",\"Predicted\",\"Predicted\",\"Predicted\",\"Predicted\",\"Predicted\",\"Predicted\",\"Predicted\",\"Predicted\",\"Predicted\",\"Predicted\",\"Predicted\",\"Predicted\",\"Predicted\",\"Predicted\",\"Predicted\",\"Predicted\",\"Predicted\",\"Predicted\",\"Predicted\",\"Predicted\",\"Predicted\",\"Predicted\",\"Predicted\",\"Predicted\",\"Predicted\",\"Predicted\",\"Predicted\",\"Predicted\",\"Predicted\",\"Predicted\",\"Predicted\",\"Predicted\",\"Predicted\",\"Predicted\",\"Predicted\",\"Predicted\",\"Predicted\",\"Predicted\",\"Predicted\",\"Predicted\",\"Predicted\",\"Predicted\",\"Predicted\",\"Predicted\",\"Predicted\",\"Predicted\",\"Predicted\",\"Predicted\",\"Predicted\",\"Predicted\",\"Predicted\",\"Predicted\",\"Predicted\",\"Predicted\",\"Predicted\",\"Predicted\",\"Predicted\",\"Predicted\",\"Predicted\",\"Predicted\",\"Predicted\",\"Predicted\",\"Predicted\",\"Predicted\",\"Predicted\",\"Predicted\",\"Predicted\",\"Predicted\",\"Predicted\",\"Predicted\",\"Predicted\",\"Predicted\",\"Predicted\",\"Predicted\",\"Predicted\",\"Predicted\",\"Predicted\",\"Predicted\",\"Predicted\",\"Predicted\",\"Predicted\",\"Predicted\",\"Predicted\",\"Predicted\",\"Predicted\",\"Predicted\",\"Predicted\",\"Predicted\",\"Predicted\",\"Predicted\",\"Predicted\",\"Predicted\",\"Predicted\",\"Predicted\",\"Predicted\",\"Predicted\",\"Predicted\",\"Predicted\",\"Predicted\",\"Predicted\",\"Predicted\",\"Predicted\",\"Predicted\",\"Predicted\",\"Predicted\",\"Predicted\",\"Predicted\",\"Predicted\",\"Predicted\",\"Predicted\",\"Predicted\",\"Predicted\",\"Predicted\",\"Predicted\",\"Predicted\",\"Predicted\",\"Predicted\"],\"index\":{\"__ndarray__\":\"AADAb96PdkIAAIDVMJB2QgAAQDuDkHZCAAAAodWQdkIAAMAGKJF2QgAAgGx6kXZCAABA0syRdkIAAAA4H5J2QgAAwJ1xknZCAACAA8SSdkIAAEBpFpN2QgAAAM9ok3ZCAADANLuTdkIAAICaDZR2QgAAQABglHZCAAAAZrKUdkIAAMDLBJV2QgAAgDFXlXZCAABAl6mVdkIAAAD9+5V2QgAAwGJOlnZCAACAyKCWdkIAAEAu85Z2QgAAAJRFl3ZCAADA+ZeXdkIAAIBf6pd2QgAAQMU8mHZCAAAAK4+YdkIAAMCQ4Zh2QgAAgPYzmXZCAABAXIaZdkIAAADC2Jl2QgAAwCcrmnZCAACAjX2adkIAAEDzz5p2QgAAAFkim3ZCAADAvnSbdkIAAIAkx5t2QgAAQIoZnHZCAAAA8GucdkIAAMBVvpx2QgAAgLsQnXZCAABAIWOddkIAAACHtZ12QgAAwOwHnnZCAACAUlqedkIAAEC4rJ52QgAAAB7/nnZCAADAg1GfdkIAAIDpo592QgAAQE/2n3ZCAAAAtUigdkIAAMAam6B2QgAAgIDtoHZCAABA5j+hdkIAAABMkqF2QgAAwLHkoXZCAACAFzeidkIAAEB9iaJ2QgAAAOPbonZCAADASC6jdkIAAICugKN2QgAAQBTTo3ZCAAAAeiWkdkIAAMDfd6R2QgAAgEXKpHZCAABAqxyldkIAAAARb6V2QgAAwHbBpXZCAACA3BOmdkIAAEBCZqZ2QgAAAKi4pnZCAADADQundkIAAIBzXad2QgAAQNmvp3ZCAAAAPwKodkIAAMCkVKh2QgAAgAqnqHZCAABAcPmodkIAAADWS6l2QgAAwDueqXZCAACAofCpdkIAAEAHQ6p2QgAAAG2VqnZCAADA0ueqdkIAAIA4Oqt2QgAAQJ6Mq3ZCAAAABN+rdkIAAMBpMax2QgAAgM+DrHZCAABANdasdkIAAACbKK12QgAAwAB7rXZCAACAZs2tdkIAAEDMH652QgAAADJyrnZCAADAl8SudkIAAID9Fq92QgAAQGNpr3ZCAAAAybuvdkIAAMAuDrB2QgAAgJRgsHZCAABA+rKwdkIAAABgBbF2QgAAwMVXsXZCAACAK6qxdkIAAECR/LF2QgAAAPdOsnZCAADAXKGydkIAAIDC87J2QgAAQChGs3ZCAAAAjpizdkIAAMDz6rN2QgAAgFk9tHZCAABAv4+0dkIAAAAl4rR2QgAAwIo0tXZCAACA8Ia1dkIAAEBW2bV2QgAAALwrtnZCAADAIX62dkIAAICH0LZ2QgAAQO0it3ZCAAAAU3W3dkIAAMC4x7d2QgAAgB4auHZCAABAhGy4dkIAAADqvrh2QgAAwE8RuXZCAACAtWO5dkIAAEAbtrl2QgAAAIEIunZCAADA5lq6dkIAAIBMrbp2QgAAQLL/unZCAAAAGFK7dkIAAMB9pLt2QgAAgOP2u3ZCAABASUm8dkIAAACvm7x2QgAAwBTuvHZCAACAekC9dkIAAEDgkr12QgAAAEblvXZCAADAqze+dkIAAIARir52QgAAQHfcvnZCAAAA3S6/dkIAAMBCgb92QgAAgKjTv3ZCAABADibAdkIAAAB0eMB2QgAAwNnKwHZCAACAPx3BdkIAAEClb8F2QgAAAAvCwXZCAADAcBTCdkIAAIDWZsJ2QgAAQDy5wnZCAAAAogvDdkIAAMAHXsN2QgAAgG2ww3ZC\",\"dtype\":\"float64\",\"order\":\"little\",\"shape\":[162]},\"value\":{\"__ndarray__\":\"T9KBRQUjgkWrZ4JFgPCDRXkUhEUnXYRFVy2ERaC2hEXsWYVFgPGCRRlgg0UvN4NFu0mDRUtAg0XxUINFNlqDRYsQg0VHuoJF06CDRYukg0WUrINFvq2DRcothEWl/YNFR6aDRcC5g0XnqYNFZL2DRe8qhEXazYRF/5eERSyUhEVJ3YRFBAKFRTuahEU5o4RF1qmERY57hEWJCoRFMUuERcX8hEWBBoVF+4+FRU2ahUW8noVFhCiHRXT7jUVlh45FwDmORUijj0XlI5BF9gCSRS/KkkVxFJJFep2SRaS3j0UMEZBF/EqQRQjckEVb9Y9FQ/aRRVNkkkW6B5NFuzGTRcV9k0WUiJNF/ReVRTWelkX2k5RFDWSRRRkvkkXkQpJFn6aSRYCZkkWtDZRFCeaURWE3l0VUAJtFzgycRW0ym0WA15pFK6ScRdIqoEU97KNFOSmsRd2Bu0VFN71FLqrRRTuL10W7v9lFKh7ORfuxwUUj0sZFxQnbRW/01UV+A9JFYI3MRS5400X63NZFiwveRfAr7kU8/e5FNAjtRfGS6EX4ueFFBz3oRTbb6UVk7uhFD2jWRW8FzUWZ1s9FXuHRRd7v1UWh0dFFWCnORd871kVr9tVFcJ7cRQf34UVr+u1FZJXyRfsG+EW50f1Fx9f5RZrL/0VwfgRG+X8LRrNHD0YJsRBGCMcSRlKAF0aw/xpGfh0URqNsGUZHORZGVlwPRr+TDkbB6RFGISQXRmiDEkZB4RFGQrETRibBFUYapRlGF2YaRl7fF0ZtlRRGqHgWRmCIEkartgtGkH8NRjbbAUZ8BwdGNFUORmsADkbtSA9GPowNRpB2CkZYLgZG6L0FRnqlBkYtRAVG\",\"dtype\":\"float32\",\"order\":\"little\",\"shape\":[162]}},\"selected\":{\"id\":\"10525\"},\"selection_policy\":{\"id\":\"10551\"}},\"id\":\"10524\",\"type\":\"ColumnDataSource\"},{\"attributes\":{\"months\":[0,4,8]},\"id\":\"10516\",\"type\":\"MonthsTicker\"},{\"attributes\":{\"mantissas\":[1,2,5],\"max_interval\":500.0,\"num_minor_ticks\":0},\"id\":\"10507\",\"type\":\"AdaptiveTicker\"},{\"attributes\":{},\"id\":\"10465\",\"type\":\"LinearScale\"},{\"attributes\":{\"axis_label\":\"\",\"bounds\":\"auto\",\"formatter\":{\"id\":\"10493\"},\"major_label_orientation\":\"horizontal\",\"ticker\":{\"id\":\"10474\"}},\"id\":\"10473\",\"type\":\"LinearAxis\"},{\"attributes\":{\"line_color\":\"#1f77b3\",\"line_width\":2,\"x\":{\"field\":\"index\"},\"y\":{\"field\":\"value\"}},\"id\":\"10497\",\"type\":\"Line\"},{\"attributes\":{\"overlay\":{\"id\":\"10482\"}},\"id\":\"10480\",\"type\":\"BoxZoomTool\"},{\"attributes\":{},\"id\":\"10467\",\"type\":\"LinearScale\"},{\"attributes\":{\"end\":1564358400000.0,\"reset_end\":1564358400000.0,\"reset_start\":1550448000000.0,\"start\":1550448000000.0,\"tags\":[[[\"index\",\"index\",null]]]},\"id\":\"10456\",\"type\":\"Range1d\"},{\"attributes\":{\"line_alpha\":0.2,\"line_color\":\"#1f77b3\",\"line_width\":2,\"x\":{\"field\":\"index\"},\"y\":{\"field\":\"value\"}},\"id\":\"10499\",\"type\":\"Line\"},{\"attributes\":{\"label\":{\"value\":\"Predicted\"},\"renderers\":[{\"id\":\"10530\"}]},\"id\":\"10554\",\"type\":\"LegendItem\"},{\"attributes\":{\"children\":[{\"id\":\"10455\"},{\"id\":\"10460\"},{\"id\":\"10753\"}],\"margin\":[0,0,0,0],\"name\":\"Row11778\",\"tags\":[\"embedded\"]},\"id\":\"10454\",\"type\":\"Row\"},{\"attributes\":{},\"id\":\"10518\",\"type\":\"YearsTicker\"},{\"attributes\":{\"callback\":null,\"formatters\":{\"@{index}\":\"datetime\"},\"renderers\":[{\"id\":\"10500\"},{\"id\":\"10530\"}],\"tags\":[\"hv_created\"],\"tooltips\":[[\"Variable\",\"@{Variable}\"],[\"index\",\"@{index}{%F %T}\"],[\"value\",\"@{value}\"]]},\"id\":\"10458\",\"type\":\"HoverTool\"},{\"attributes\":{\"end\":13837.516308100001,\"reset_end\":13837.516308100001,\"reset_start\":2746.6838869000003,\"start\":2746.6838869000003,\"tags\":[[[\"value\",\"value\",null]]]},\"id\":\"10457\",\"type\":\"Range1d\"},{\"attributes\":{\"label\":{\"value\":\"Real\"},\"renderers\":[{\"id\":\"10500\"}]},\"id\":\"10523\",\"type\":\"LegendItem\"},{\"attributes\":{\"base\":60,\"mantissas\":[1,2,5,10,15,20,30],\"max_interval\":1800000.0,\"min_interval\":1000.0,\"num_minor_ticks\":0},\"id\":\"10508\",\"type\":\"AdaptiveTicker\"},{\"attributes\":{\"source\":{\"id\":\"10494\"}},\"id\":\"10501\",\"type\":\"CDSView\"},{\"attributes\":{\"line_alpha\":0.1,\"line_color\":\"#ff7e0e\",\"line_width\":2,\"x\":{\"field\":\"index\"},\"y\":{\"field\":\"value\"}},\"id\":\"10528\",\"type\":\"Line\"},{\"attributes\":{\"source\":{\"id\":\"10524\"}},\"id\":\"10531\",\"type\":\"CDSView\"},{\"attributes\":{},\"id\":\"10478\",\"type\":\"PanTool\"},{\"attributes\":{\"months\":[0,6]},\"id\":\"10517\",\"type\":\"MonthsTicker\"},{\"attributes\":{\"base\":24,\"mantissas\":[1,2,4,6,8,12],\"max_interval\":43200000.0,\"min_interval\":3600000.0,\"num_minor_ticks\":0},\"id\":\"10509\",\"type\":\"AdaptiveTicker\"},{\"attributes\":{\"margin\":[5,5,5,5],\"name\":\"HSpacer11783\",\"sizing_mode\":\"stretch_width\"},\"id\":\"10753\",\"type\":\"Spacer\"}],\"root_ids\":[\"10454\"]},\"title\":\"Bokeh Application\",\"version\":\"2.1.1\"}};\n",
       "  var render_items = [{\"docid\":\"cf5e2b87-6451-47f5-b9f7-5668c8f2ef3f\",\"root_ids\":[\"10454\"],\"roots\":{\"10454\":\"f91a30ab-dc5b-4a59-994b-fe962afb0637\"}}];\n",
       "  root.Bokeh.embed.embed_items_notebook(docs_json, render_items);\n",
       "  }\n",
       "if (root.Bokeh !== undefined) {\n",
       "    embed_document(root);\n",
       "  } else {\n",
       "    var attempts = 0;\n",
       "    var timer = setInterval(function(root) {\n",
       "      if (root.Bokeh !== undefined) {\n",
       "        clearInterval(timer);\n",
       "        embed_document(root);\n",
       "      } else if (document.readyState == \"complete\") {\n",
       "        attempts++;\n",
       "        if (attempts > 100) {\n",
       "          clearInterval(timer);\n",
       "          console.log(\"Bokeh: ERROR: Unable to run BokehJS code because BokehJS library is missing\");\n",
       "        }\n",
       "      }\n",
       "    }, 10, root)\n",
       "  }\n",
       "})(window);</script>"
      ],
      "text/plain": [
       ":NdOverlay   [Variable]\n",
       "   :Curve   [index]   (value)"
      ]
     },
     "execution_count": 584,
     "metadata": {
      "application/vnd.holoviews_exec.v0+json": {
       "id": "10454"
      }
     },
     "output_type": "execute_result"
    }
   ],
   "source": [
    "# Plot the real vs predicted values as a line chart\n",
    "stocks.hvplot.line( legend='top', height=500, width=620)"
   ]
  },
  {
   "cell_type": "code",
   "execution_count": null,
   "metadata": {},
   "outputs": [],
   "source": []
  },
  {
   "cell_type": "code",
   "execution_count": null,
   "metadata": {},
   "outputs": [],
   "source": []
  }
 ],
 "metadata": {
  "file_extension": ".py",
  "kernelspec": {
   "display_name": "Python 3",
   "language": "python",
   "name": "python3"
  },
  "language_info": {
   "codemirror_mode": {
    "name": "ipython",
    "version": 3
   },
   "file_extension": ".py",
   "mimetype": "text/x-python",
   "name": "python",
   "nbconvert_exporter": "python",
   "pygments_lexer": "ipython3",
   "version": "3.7.7"
  },
  "mimetype": "text/x-python",
  "name": "python",
  "npconvert_exporter": "python",
  "pygments_lexer": "ipython3",
  "version": 3
 },
 "nbformat": 4,
 "nbformat_minor": 4
}
